{
 "cells": [
  {
   "cell_type": "code",
   "execution_count": 24,
   "id": "1e1a7b7c-9e91-485f-bf1d-c07691c207dc",
   "metadata": {},
   "outputs": [
    {
     "data": {
      "text/plain": [
       "True"
      ]
     },
     "execution_count": 24,
     "metadata": {},
     "output_type": "execute_result"
    }
   ],
   "source": [
    "import cv2\n",
    "\n",
    "cap = cv2.VideoCapture(0)  # Change to your stream source\n",
    "\n",
    "# Define the desired resolution and FPS\n",
    "width, height = 1280, 720\n",
    "\n",
    "# Set the resolution and other properties for each camera\n",
    "cap.set(cv2.CAP_PROP_FRAME_WIDTH, width)\n",
    "cap.set(cv2.CAP_PROP_FRAME_HEIGHT, height)"
   ]
  },
  {
   "cell_type": "code",
   "execution_count": 25,
   "id": "d94dfb0c-9a2b-4659-98fa-0f293457691a",
   "metadata": {},
   "outputs": [],
   "source": [
    "while True:\n",
    "    ret, frame = cap.read()\n",
    "    if not ret:\n",
    "        print(\"Failed to grab frame\")\n",
    "        break\n",
    "\n",
    "    if frame.shape != (720,1280,3):\n",
    "        print(f\"Frame shape: {frame.shape}\")  # (height, width, channels)\n",
    "    \n",
    "    cv2.imshow(\"Stream\", frame)\n",
    "\n",
    "    if cv2.waitKey(1) & 0xFF == ord('q'):\n",
    "        break"
   ]
  },
  {
   "cell_type": "code",
   "execution_count": 26,
   "id": "f2d6ab1c-35c8-422e-a5dd-15825770e565",
   "metadata": {},
   "outputs": [],
   "source": [
    "cap.release()\n",
    "cv2.destroyAllWindows()"
   ]
  },
  {
   "cell_type": "code",
   "execution_count": null,
   "id": "252275d6-1e15-4562-9035-b88189a8deb2",
   "metadata": {},
   "outputs": [],
   "source": []
  }
 ],
 "metadata": {
  "kernelspec": {
   "display_name": "base",
   "language": "python",
   "name": "base"
  },
  "language_info": {
   "codemirror_mode": {
    "name": "ipython",
    "version": 3
   },
   "file_extension": ".py",
   "mimetype": "text/x-python",
   "name": "python",
   "nbconvert_exporter": "python",
   "pygments_lexer": "ipython3",
   "version": "3.11.8"
  }
 },
 "nbformat": 4,
 "nbformat_minor": 5
}
